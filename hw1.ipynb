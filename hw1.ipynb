{
 "cells": [
  {
   "cell_type": "code",
   "execution_count": 8,
   "id": "bfc4e8c6",
   "metadata": {},
   "outputs": [
    {
     "name": "stdout",
     "output_type": "stream",
     "text": [
      "3\n",
      "1\n"
     ]
    }
   ],
   "source": [
    "LISTS = [3, 3, 2, 2, 3, 3, 1]\n",
    "\n",
    "\n",
    "most_common = max(set(LISTS), key=LISTS.count)\n",
    "print(most_common)\n",
    "least_common = min(set(LISTS), key=LISTS.count)\n",
    "print(least_common)"
   ]
  },
  {
   "cell_type": "code",
   "execution_count": null,
   "id": "a617b285",
   "metadata": {},
   "outputs": [],
   "source": []
  }
 ],
 "metadata": {
  "kernelspec": {
   "display_name": "Python 3 (ipykernel)",
   "language": "python",
   "name": "python3"
  },
  "language_info": {
   "codemirror_mode": {
    "name": "ipython",
    "version": 3
   },
   "file_extension": ".py",
   "mimetype": "text/x-python",
   "name": "python",
   "nbconvert_exporter": "python",
   "pygments_lexer": "ipython3",
   "version": "3.9.13"
  }
 },
 "nbformat": 4,
 "nbformat_minor": 5
}
